{
 "cells": [
  {
   "cell_type": "markdown",
   "id": "6939475a-c8f0-4ab1-9b71-352646870d4a",
   "metadata": {},
   "source": [
    "ASSIGNMENT"
   ]
  },
  {
   "cell_type": "code",
   "execution_count": 1,
   "id": "e8d265d1-564d-4b75-92b2-45a1979238a4",
   "metadata": {
    "tags": []
   },
   "outputs": [],
   "source": [
    "#QUESTION 1 "
   ]
  },
  {
   "cell_type": "code",
   "execution_count": 2,
   "id": "3fda994e-4cff-4679-b4f4-1bc43e335e0e",
   "metadata": {
    "tags": []
   },
   "outputs": [],
   "source": [
    "#WHAT IS A TUPLE IN PYTHON?"
   ]
  },
  {
   "cell_type": "code",
   "execution_count": null,
   "id": "735f4be3-f913-4b10-89c2-06b7c04edf56",
   "metadata": {},
   "outputs": [],
   "source": [
    "\"\"\"A tuple in python is a collection of ordered and immutable elements. Its like a list, but you can't change its values once it's created. Tuples are often used to store related pieces of information together."
   ]
  },
  {
   "cell_type": "code",
   "execution_count": null,
   "id": "06af9374-1f6f-4ba8-9ced-73dad670d163",
   "metadata": {},
   "outputs": [],
   "source": []
  },
  {
   "cell_type": "code",
   "execution_count": null,
   "id": "edf922f9-8f49-42be-8988-ee3fc9c4b9e0",
   "metadata": {},
   "outputs": [],
   "source": []
  },
  {
   "cell_type": "code",
   "execution_count": 3,
   "id": "6e4db6e8-8675-4354-a5f1-91e61365af9a",
   "metadata": {
    "tags": []
   },
   "outputs": [],
   "source": [
    "#QUESTION 2 "
   ]
  },
  {
   "cell_type": "code",
   "execution_count": 4,
   "id": "7dc35f44-e312-4498-89cd-ec167caddf4a",
   "metadata": {
    "tags": []
   },
   "outputs": [],
   "source": [
    "#HOW DO YOU CREATE A TUPLE IN PYTHON?"
   ]
  },
  {
   "cell_type": "code",
   "execution_count": 7,
   "id": "ec2a57f7-2473-4011-8ec2-e974cc1e6608",
   "metadata": {
    "tags": []
   },
   "outputs": [],
   "source": [
    "my_tuple = (1,2,3, \"hello\", True)\n",
    "empty_tuple = ()\n",
    "single_element_tuple = (42,)"
   ]
  },
  {
   "cell_type": "code",
   "execution_count": null,
   "id": "a342f5fd-69c7-4873-ac81-4d5350865e1e",
   "metadata": {},
   "outputs": [],
   "source": []
  },
  {
   "cell_type": "code",
   "execution_count": null,
   "id": "205caa08-8f79-4bcc-af03-9830837666d0",
   "metadata": {},
   "outputs": [],
   "source": []
  },
  {
   "cell_type": "code",
   "execution_count": 8,
   "id": "88f8cab4-35b4-4f67-8c77-9205da128a8b",
   "metadata": {
    "tags": []
   },
   "outputs": [],
   "source": [
    "#QUESTION 3 "
   ]
  },
  {
   "cell_type": "code",
   "execution_count": 9,
   "id": "d8fe0164-f353-43c3-9010-66d9ced8d5f4",
   "metadata": {
    "tags": []
   },
   "outputs": [],
   "source": [
    "#WHAT IS THE DIFFERENCE BETWEEN A TUPLE AND A LIST IN PYTHON?"
   ]
  },
  {
   "cell_type": "code",
   "execution_count": null,
   "id": "22b72fd5-1983-4e42-a90e-d79a0499c83f",
   "metadata": {},
   "outputs": [],
   "source": [
    "'''1. Mutability: The main difference is that tuples are immutable, meaning their elements cannot be changed once created, while lists are mutable and can be modified.\n",
    "\n",
    "2. Syntax: Tuples are defined using parentheses, like (1, 2, 3), whereas lists are defined using square brackets, like [1, 2, 3].\n",
    "\n",
    "3. Usage: Tuples are often used to represent a collection of related values that should not be modified, such as coordinates (x, y) or a person's name and age (\"John\", 25). Lists, on the other hand, are used when you need a collection that can be modified, like a list of tasks or a sequence of numbers.\n",
    "\n",
    "4. Performance: Tuples are generally more memory-efficient and faster to access than lists. If you have a collection of values that won't change, using a tuple can be more efficient.\n",
    "\n",
    "In summary, tuples are immutable and defined with parentheses, while lists are mutable and defined with square brackets. The choice between them depends on whether you need to modify the collection or not."
   ]
  },
  {
   "cell_type": "code",
   "execution_count": null,
   "id": "fb99c37d-c4d9-43cc-b7e7-91984729c77f",
   "metadata": {},
   "outputs": [],
   "source": []
  },
  {
   "cell_type": "code",
   "execution_count": null,
   "id": "a6535c5f-d4ee-4b9c-b228-dc919a119790",
   "metadata": {},
   "outputs": [],
   "source": []
  },
  {
   "cell_type": "code",
   "execution_count": 10,
   "id": "521f29c6-e2fc-4eb7-a36d-dead31fda868",
   "metadata": {
    "tags": []
   },
   "outputs": [],
   "source": [
    "#QUESTION 4 "
   ]
  },
  {
   "cell_type": "code",
   "execution_count": 11,
   "id": "338a4d13-6f7d-4f45-a5d7-63d7ffe6ee77",
   "metadata": {
    "tags": []
   },
   "outputs": [],
   "source": [
    "# CAN A TUPLE BE CHANGED IN PYTHON?"
   ]
  },
  {
   "cell_type": "code",
   "execution_count": null,
   "id": "5fc15f6e-f127-4cfc-825a-22e77e4bac3b",
   "metadata": {},
   "outputs": [],
   "source": [
    "'''No, once a tuple is created in python, its elements cannot be changed. Tuples are immutable, meaning they cannot be modified if you need to modify the elements, you would need to create a new tuple with the desired changes."
   ]
  },
  {
   "cell_type": "code",
   "execution_count": null,
   "id": "066e4b2a-3e3b-4a91-bc0a-12923dd84fb9",
   "metadata": {},
   "outputs": [],
   "source": []
  },
  {
   "cell_type": "code",
   "execution_count": null,
   "id": "5ba73cac-fa53-4b8a-8bce-b605cf0a079a",
   "metadata": {},
   "outputs": [],
   "source": []
  },
  {
   "cell_type": "code",
   "execution_count": 12,
   "id": "d61abdbe-a912-462c-a568-29df10ea6b15",
   "metadata": {
    "tags": []
   },
   "outputs": [],
   "source": [
    "#QUESTION 5"
   ]
  },
  {
   "cell_type": "code",
   "execution_count": 13,
   "id": "b0f4f91d-bfcb-4b12-92b7-6ccbeba41730",
   "metadata": {
    "tags": []
   },
   "outputs": [],
   "source": [
    "#HOW DO YOU ACCESS ELEMENTS IN A TUPLE?"
   ]
  },
  {
   "cell_type": "code",
   "execution_count": 14,
   "id": "dce8ddf7-9174-4a01-89ea-f02a4f9502cb",
   "metadata": {
    "tags": []
   },
   "outputs": [
    {
     "name": "stdout",
     "output_type": "stream",
     "text": [
      "(2, 3, 'hello')\n"
     ]
    }
   ],
   "source": [
    "My_tuple = (\"apple\",\"banana\",\"cherry\",\"date\",\"elderberry\")\n",
    "print(my_tuple[1:4])"
   ]
  },
  {
   "cell_type": "code",
   "execution_count": null,
   "id": "96905c04-ae94-4886-b212-fb5ea555541b",
   "metadata": {},
   "outputs": [],
   "source": []
  },
  {
   "cell_type": "code",
   "execution_count": null,
   "id": "12f006f1-fa35-478b-bcd8-6c589dc8a233",
   "metadata": {},
   "outputs": [],
   "source": []
  },
  {
   "cell_type": "code",
   "execution_count": 15,
   "id": "3c8d7331-30ea-4a5d-83be-df85cf2ea43d",
   "metadata": {
    "tags": []
   },
   "outputs": [],
   "source": [
    "#QUESTION 6"
   ]
  },
  {
   "cell_type": "code",
   "execution_count": 16,
   "id": "8b61a6cd-89ff-4cb0-a3d0-efd76fc66f5b",
   "metadata": {
    "tags": []
   },
   "outputs": [],
   "source": [
    "#HOW DO YOU UNPACK A TUPLE IN PYTHON?"
   ]
  },
  {
   "cell_type": "code",
   "execution_count": 17,
   "id": "57695e57-1c65-4aef-9396-abd23c74e434",
   "metadata": {
    "tags": []
   },
   "outputs": [],
   "source": [
    "my_tuple = (\"apple\",\"banana\",\"cherry\")\n",
    "fruit1, fruit2, fruit3 = my_tuple\n",
    "print(fruit)"
   ]
  },
  {
   "cell_type": "code",
   "execution_count": null,
   "id": "24976571-8493-4e76-84c6-8dbf2fe5bfbe",
   "metadata": {},
   "outputs": [],
   "source": []
  }
 ],
 "metadata": {
  "kernelspec": {
   "display_name": "Python 3 (ipykernel)",
   "language": "python",
   "name": "python3"
  },
  "language_info": {
   "codemirror_mode": {
    "name": "ipython",
    "version": 3
   },
   "file_extension": ".py",
   "mimetype": "text/x-python",
   "name": "python",
   "nbconvert_exporter": "python",
   "pygments_lexer": "ipython3",
   "version": "3.11.4"
  }
 },
 "nbformat": 4,
 "nbformat_minor": 5
}
